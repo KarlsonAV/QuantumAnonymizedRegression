{
 "cells": [
  {
   "cell_type": "markdown",
   "metadata": {
    "collapsed": true,
    "pycharm": {
     "name": "#%% md\n"
    }
   },
   "source": [
    "# Model Building"
   ]
  },
  {
   "cell_type": "markdown",
   "source": [
    "### Installing requirements"
   ],
   "metadata": {
    "collapsed": false,
    "pycharm": {
     "name": "#%% md\n"
    }
   }
  },
  {
   "cell_type": "code",
   "execution_count": 319,
   "outputs": [],
   "source": [
    "import pandas as pd\n",
    "import numpy as np\n",
    "import matplotlib.pyplot as plt\n",
    "import seaborn as sns\n",
    "\n",
    "from sklearn.preprocessing import MinMaxScaler\n",
    "from sklearn.linear_model import LinearRegression, Lasso, Ridge\n",
    "from sklearn.ensemble import RandomForestRegressor\n",
    "from sklearn.metrics import mean_squared_error\n",
    "from sklearn.model_selection import cross_validate"
   ],
   "metadata": {
    "collapsed": false,
    "pycharm": {
     "name": "#%%\n"
    }
   }
  },
  {
   "cell_type": "markdown",
   "source": [
    "### Loading DataSet"
   ],
   "metadata": {
    "collapsed": false,
    "pycharm": {
     "name": "#%% md\n"
    }
   }
  },
  {
   "cell_type": "code",
   "execution_count": 320,
   "outputs": [
    {
     "data": {
      "text/plain": "     0    1    2    3    4    5         6         7  8    9  ...        45  \\\n0  236  488   16  221  382   97 -4.472136  0.107472  0  132  ...  0.870542   \n1  386  206  357  232    1  198  7.810250  0.763713  1  143  ...  7.168680   \n2  429   49  481  111  111  146  8.602325  0.651162  1  430  ...  0.394970   \n3  414  350  481  370  208  158  8.306624  0.424645  1  340  ...  6.416708   \n4  318  359   20  218  317  301  8.124038  0.767304  1  212  ...  1.919999   \n\n          46         47         48         49         50         51  \\\n0   1.962937   7.466666  11.547794   8.822916   9.046424   7.895535   \n1   2.885415  12.413973  10.260494  10.091351   9.270888   3.173994   \n2   8.160625  12.592059   8.937577   2.265191  11.255721  12.794841   \n3  10.549814  11.456437   6.468099   2.519049   0.258284   9.317696   \n4   2.268203   0.149421   4.105907  10.416291   6.816217   8.586960   \n\n          52     target  6sqr  \n0  11.010677  20.107472  20.0  \n1  13.921871  61.763713  61.0  \n2  12.080951  74.651162  74.0  \n3   5.383098  69.424645  69.0  \n4   4.512419  66.767304  66.0  \n\n[5 rows x 55 columns]",
      "text/html": "<div>\n<style scoped>\n    .dataframe tbody tr th:only-of-type {\n        vertical-align: middle;\n    }\n\n    .dataframe tbody tr th {\n        vertical-align: top;\n    }\n\n    .dataframe thead th {\n        text-align: right;\n    }\n</style>\n<table border=\"1\" class=\"dataframe\">\n  <thead>\n    <tr style=\"text-align: right;\">\n      <th></th>\n      <th>0</th>\n      <th>1</th>\n      <th>2</th>\n      <th>3</th>\n      <th>4</th>\n      <th>5</th>\n      <th>6</th>\n      <th>7</th>\n      <th>8</th>\n      <th>9</th>\n      <th>...</th>\n      <th>45</th>\n      <th>46</th>\n      <th>47</th>\n      <th>48</th>\n      <th>49</th>\n      <th>50</th>\n      <th>51</th>\n      <th>52</th>\n      <th>target</th>\n      <th>6sqr</th>\n    </tr>\n  </thead>\n  <tbody>\n    <tr>\n      <th>0</th>\n      <td>236</td>\n      <td>488</td>\n      <td>16</td>\n      <td>221</td>\n      <td>382</td>\n      <td>97</td>\n      <td>-4.472136</td>\n      <td>0.107472</td>\n      <td>0</td>\n      <td>132</td>\n      <td>...</td>\n      <td>0.870542</td>\n      <td>1.962937</td>\n      <td>7.466666</td>\n      <td>11.547794</td>\n      <td>8.822916</td>\n      <td>9.046424</td>\n      <td>7.895535</td>\n      <td>11.010677</td>\n      <td>20.107472</td>\n      <td>20.0</td>\n    </tr>\n    <tr>\n      <th>1</th>\n      <td>386</td>\n      <td>206</td>\n      <td>357</td>\n      <td>232</td>\n      <td>1</td>\n      <td>198</td>\n      <td>7.810250</td>\n      <td>0.763713</td>\n      <td>1</td>\n      <td>143</td>\n      <td>...</td>\n      <td>7.168680</td>\n      <td>2.885415</td>\n      <td>12.413973</td>\n      <td>10.260494</td>\n      <td>10.091351</td>\n      <td>9.270888</td>\n      <td>3.173994</td>\n      <td>13.921871</td>\n      <td>61.763713</td>\n      <td>61.0</td>\n    </tr>\n    <tr>\n      <th>2</th>\n      <td>429</td>\n      <td>49</td>\n      <td>481</td>\n      <td>111</td>\n      <td>111</td>\n      <td>146</td>\n      <td>8.602325</td>\n      <td>0.651162</td>\n      <td>1</td>\n      <td>430</td>\n      <td>...</td>\n      <td>0.394970</td>\n      <td>8.160625</td>\n      <td>12.592059</td>\n      <td>8.937577</td>\n      <td>2.265191</td>\n      <td>11.255721</td>\n      <td>12.794841</td>\n      <td>12.080951</td>\n      <td>74.651162</td>\n      <td>74.0</td>\n    </tr>\n    <tr>\n      <th>3</th>\n      <td>414</td>\n      <td>350</td>\n      <td>481</td>\n      <td>370</td>\n      <td>208</td>\n      <td>158</td>\n      <td>8.306624</td>\n      <td>0.424645</td>\n      <td>1</td>\n      <td>340</td>\n      <td>...</td>\n      <td>6.416708</td>\n      <td>10.549814</td>\n      <td>11.456437</td>\n      <td>6.468099</td>\n      <td>2.519049</td>\n      <td>0.258284</td>\n      <td>9.317696</td>\n      <td>5.383098</td>\n      <td>69.424645</td>\n      <td>69.0</td>\n    </tr>\n    <tr>\n      <th>4</th>\n      <td>318</td>\n      <td>359</td>\n      <td>20</td>\n      <td>218</td>\n      <td>317</td>\n      <td>301</td>\n      <td>8.124038</td>\n      <td>0.767304</td>\n      <td>1</td>\n      <td>212</td>\n      <td>...</td>\n      <td>1.919999</td>\n      <td>2.268203</td>\n      <td>0.149421</td>\n      <td>4.105907</td>\n      <td>10.416291</td>\n      <td>6.816217</td>\n      <td>8.586960</td>\n      <td>4.512419</td>\n      <td>66.767304</td>\n      <td>66.0</td>\n    </tr>\n  </tbody>\n</table>\n<p>5 rows × 55 columns</p>\n</div>"
     },
     "execution_count": 320,
     "metadata": {},
     "output_type": "execute_result"
    }
   ],
   "source": [
    "train = pd.read_csv(\"Data/train.csv\")\n",
    "test = pd.read_csv(\"Data/test.csv\")\n",
    "\n",
    "train.head()"
   ],
   "metadata": {
    "collapsed": false,
    "pycharm": {
     "name": "#%%\n"
    }
   }
  },
  {
   "cell_type": "markdown",
   "source": [
    "### Data Preprocessing"
   ],
   "metadata": {
    "collapsed": false,
    "pycharm": {
     "name": "#%% md\n"
    }
   }
  },
  {
   "cell_type": "code",
   "execution_count": 321,
   "outputs": [],
   "source": [
    "#=======================================================================================\n",
    "# Splitting Dataset :\n",
    "#=======================================================================================\n",
    "\n",
    "y_train = train.target\n",
    "X_train = train.drop(columns='target')\n",
    "\n",
    "X_test = test"
   ],
   "metadata": {
    "collapsed": false,
    "pycharm": {
     "name": "#%%\n"
    }
   }
  },
  {
   "cell_type": "code",
   "execution_count": 322,
   "outputs": [],
   "source": [
    "#=======================================================================================\n",
    "# Feature Scaling :\n",
    "#=======================================================================================\n",
    "\n",
    "# Using Min Max scaler\n",
    "scaler = MinMaxScaler()"
   ],
   "metadata": {
    "collapsed": false,
    "pycharm": {
     "name": "#%%\n"
    }
   }
  },
  {
   "cell_type": "code",
   "execution_count": 323,
   "outputs": [],
   "source": [
    "# Scaling training dataset\n",
    "columns = X_train.columns\n",
    "X_train_scaled = scaler.fit_transform(X_train)\n",
    "X_train_scaled = pd.DataFrame(X_train_scaled)\n",
    "X_train_scaled.columns = columns\n",
    "\n",
    "# Scaling test dataset\n",
    "columns = X_test.columns\n",
    "X_test_scaled = scaler.transform(X_test)\n",
    "X_test_scaled = pd.DataFrame(X_test_scaled)\n",
    "X_test_scaled.columns = columns\n",
    "\n",
    "# Remembering mean and std for future unscaling\n",
    "target_mean = y_train.mean()\n",
    "target_std = y_train.std()\n",
    "\n",
    "# Scaling target feature\n",
    "y_train_scaled = scaler.fit_transform(y_train.to_numpy().reshape(-1, 1))\n",
    "y_train_scaled = y_train_scaled.reshape(1, -1)[0]"
   ],
   "metadata": {
    "collapsed": false,
    "pycharm": {
     "name": "#%%\n"
    }
   }
  },
  {
   "cell_type": "markdown",
   "source": [
    "### Feature selection"
   ],
   "metadata": {
    "collapsed": false,
    "pycharm": {
     "name": "#%% md\n"
    }
   }
  },
  {
   "cell_type": "markdown",
   "source": [
    "After Data Analysis step we have discovered, that only feature 6 (squared) has a strong correlation with target feature. Now let's fit simple Linear Regression and check features importance"
   ],
   "metadata": {
    "collapsed": false,
    "pycharm": {
     "name": "#%% md\n"
    }
   }
  },
  {
   "cell_type": "code",
   "execution_count": 324,
   "outputs": [
    {
     "name": "stdout",
     "output_type": "stream",
     "text": [
      "Feature: 7, Score: 0.01000\n",
      "Feature: 6sqr, Score: 0.99003\n"
     ]
    },
    {
     "data": {
      "text/plain": "<Figure size 432x288 with 1 Axes>",
      "image/png": "[encoded data removed]"
     },
     "metadata": {
      "needs_background": "light"
     },
     "output_type": "display_data"
    }
   ],
   "source": [
    "model = LinearRegression()\n",
    "model.fit(X_train_scaled, y_train_scaled)\n",
    "\n",
    "importance = model.coef_\n",
    "feature_names = model.feature_names_in_\n",
    "\n",
    "# summarize feature importance\n",
    "for i,v in enumerate(importance):\n",
    "    if v > 0.001:\n",
    "\t    print(f'Feature: {feature_names[i]}, Score: {v:.5f}')\n",
    "# plot feature importance\n",
    "plt.bar([x for x in range(len(importance))], importance)\n",
    "plt.show()"
   ],
   "metadata": {
    "collapsed": false,
    "pycharm": {
     "name": "#%%\n"
    }
   }
  },
  {
   "cell_type": "markdown",
   "source": [
    "As it was expected, feature 6 has a very big importance. But it also turned out, that feature 7 has a very little impact on prediction. We will use these 2 features for Regression"
   ],
   "metadata": {
    "collapsed": false,
    "pycharm": {
     "name": "#%% md\n"
    }
   }
  },
  {
   "cell_type": "code",
   "execution_count": 325,
   "outputs": [],
   "source": [
    "X_train_scaled = X_train_scaled[[\"6sqr\", \"7\"]]\n",
    "X_test_scaled = X_test_scaled[[\"6sqr\", \"7\"]]"
   ],
   "metadata": {
    "collapsed": false,
    "pycharm": {
     "name": "#%%\n"
    }
   }
  },
  {
   "cell_type": "markdown",
   "source": [
    "### Building a model"
   ],
   "metadata": {
    "collapsed": false,
    "pycharm": {
     "name": "#%% md\n"
    }
   }
  },
  {
   "cell_type": "markdown",
   "source": [
    "Now let's select the best regressor"
   ],
   "metadata": {
    "collapsed": false,
    "pycharm": {
     "name": "#%% md\n"
    }
   }
  },
  {
   "cell_type": "code",
   "execution_count": 326,
   "outputs": [
    {
     "name": "stderr",
     "output_type": "stream",
     "text": [
      "/var/folders/19/6fxk39qn5xq4llhgjf6z4tl00000gn/T/ipykernel_5162/3726688754.py:20: FutureWarning: The frame.append method is deprecated and will be removed from pandas in a future version. Use pandas.concat instead.\n",
      "  results = results.append({\n",
      "/var/folders/19/6fxk39qn5xq4llhgjf6z4tl00000gn/T/ipykernel_5162/3726688754.py:20: FutureWarning: The frame.append method is deprecated and will be removed from pandas in a future version. Use pandas.concat instead.\n",
      "  results = results.append({\n",
      "/var/folders/19/6fxk39qn5xq4llhgjf6z4tl00000gn/T/ipykernel_5162/3726688754.py:20: FutureWarning: The frame.append method is deprecated and will be removed from pandas in a future version. Use pandas.concat instead.\n",
      "  results = results.append({\n",
      "/var/folders/19/6fxk39qn5xq4llhgjf6z4tl00000gn/T/ipykernel_5162/3726688754.py:20: FutureWarning: The frame.append method is deprecated and will be removed from pandas in a future version. Use pandas.concat instead.\n",
      "  results = results.append({\n"
     ]
    },
    {
     "data": {
      "text/plain": "           Regressor  Avg_RMSE    Avg_r2\n0  Linear Regression       0.0       1.0\n1      Random_Forest  0.000007       1.0\n2              Ridge  0.000042       1.0\n3              Lasso  0.288977  0.000075",
      "text/html": "<div>\n<style scoped>\n    .dataframe tbody tr th:only-of-type {\n        vertical-align: middle;\n    }\n\n    .dataframe tbody tr th {\n        vertical-align: top;\n    }\n\n    .dataframe thead th {\n        text-align: right;\n    }\n</style>\n<table border=\"1\" class=\"dataframe\">\n  <thead>\n    <tr style=\"text-align: right;\">\n      <th></th>\n      <th>Regressor</th>\n      <th>Avg_RMSE</th>\n      <th>Avg_r2</th>\n    </tr>\n  </thead>\n  <tbody>\n    <tr>\n      <th>0</th>\n      <td>Linear Regression</td>\n      <td>0.0</td>\n      <td>1.0</td>\n    </tr>\n    <tr>\n      <th>1</th>\n      <td>Random_Forest</td>\n      <td>0.000007</td>\n      <td>1.0</td>\n    </tr>\n    <tr>\n      <th>2</th>\n      <td>Ridge</td>\n      <td>0.000042</td>\n      <td>1.0</td>\n    </tr>\n    <tr>\n      <th>3</th>\n      <td>Lasso</td>\n      <td>0.288977</td>\n      <td>0.000075</td>\n    </tr>\n  </tbody>\n</table>\n</div>"
     },
     "execution_count": 326,
     "metadata": {},
     "output_type": "execute_result"
    }
   ],
   "source": [
    "#=======================================================================================\n",
    "# Selecting Best Regressor :\n",
    "#=======================================================================================\n",
    "\n",
    "regressors = {\n",
    "    \"Linear Regression\": LinearRegression(),\n",
    "    \"Lasso\": Lasso(),\n",
    "    \"Ridge\": Ridge(),\n",
    "    \"Random_Forest\": RandomForestRegressor()\n",
    "}\n",
    "\n",
    "results = pd.DataFrame(columns=[\"Regressor\", \"Avg_RMSE\", \"Avg_r2\"])\n",
    "for name, reg in regressors.items():\n",
    "    model = reg\n",
    "    cv_results = cross_validate(\n",
    "        model, X_train_scaled, y_train_scaled, cv=10,\n",
    "        scoring=('r2', 'neg_root_mean_squared_error')\n",
    "    )\n",
    "\n",
    "    results = results.append({\n",
    "        \"Regressor\": name,\n",
    "        \"Avg_RMSE\": np.abs(cv_results['test_neg_root_mean_squared_error']).mean(),\n",
    "        \"Avg_r2\": np.abs(cv_results['test_r2']).mean()\n",
    "    }, ignore_index=True)\n",
    "\n",
    "results = results.sort_values(\"Avg_RMSE\", ascending=True)\n",
    "results.reset_index(drop=True)"
   ],
   "metadata": {
    "collapsed": false,
    "pycharm": {
     "name": "#%%\n"
    }
   }
  },
  {
   "cell_type": "code",
   "execution_count": 327,
   "outputs": [
    {
     "data": {
      "text/plain": "<Figure size 864x432 with 1 Axes>",
      "image/png": "[encoded data removed]"
     },
     "metadata": {
      "needs_background": "light"
     },
     "output_type": "display_data"
    }
   ],
   "source": [
    "plt.figure(figsize=(12, 6))\n",
    "sns.barplot(data=results, x=\"Avg_RMSE\", y=\"Regressor\")\n",
    "plt.title(\"Average RMSE CV Score\")\n",
    "plt.show()"
   ],
   "metadata": {
    "collapsed": false,
    "pycharm": {
     "name": "#%%\n"
    }
   }
  },
  {
   "cell_type": "markdown",
   "source": [
    "Linear Regression showed the best result. I will use this model for predictions"
   ],
   "metadata": {
    "collapsed": false,
    "pycharm": {
     "name": "#%% md\n"
    }
   }
  },
  {
   "cell_type": "code",
   "execution_count": 328,
   "outputs": [
    {
     "name": "stdout",
     "output_type": "stream",
     "text": [
      "Successfully trained a model\n"
     ]
    }
   ],
   "source": [
    "#=======================================================================================\n",
    "# Training a model :\n",
    "#=======================================================================================\n",
    "\n",
    "model = LinearRegression()\n",
    "model.fit(X_train_scaled, y_train_scaled)\n",
    "\n",
    "print(\"Successfully trained a model\")"
   ],
   "metadata": {
    "collapsed": false,
    "pycharm": {
     "name": "#%%\n"
    }
   }
  },
  {
   "cell_type": "code",
   "execution_count": 329,
   "outputs": [
    {
     "name": "stdout",
     "output_type": "stream",
     "text": [
      "Train RMSE: 2.8718211865727225e-32\n"
     ]
    }
   ],
   "source": [
    "y_pred = model.predict(X_train_scaled)\n",
    "\n",
    "print(f\"Train RMSE: {mean_squared_error(y_train_scaled, y_pred)}\")"
   ],
   "metadata": {
    "collapsed": false,
    "pycharm": {
     "name": "#%%\n"
    }
   }
  },
  {
   "cell_type": "markdown",
   "source": [
    "### Making Submission"
   ],
   "metadata": {
    "collapsed": false,
    "pycharm": {
     "name": "#%% md\n"
    }
   }
  },
  {
   "cell_type": "code",
   "execution_count": 330,
   "outputs": [
    {
     "name": "stdout",
     "output_type": "stream",
     "text": [
      "SUBMITTED\n"
     ]
    }
   ],
   "source": [
    "# Making prediction\n",
    "y_pred_scaled = model.predict(X_test_scaled)\n",
    "\n",
    "# Unscaling predicted values\n",
    "y_pred = scaler.inverse_transform(y_pred_scaled.reshape(1, -1)).reshape(1, -1)[0]\n",
    "\n",
    "submission = pd.Series(data=y_pred, name=\"target\")\n",
    "submission.to_csv('predicted.csv', index=False)\n",
    "\n",
    "print(\"SUBMITTED\")"
   ],
   "metadata": {
    "collapsed": false,
    "pycharm": {
     "name": "#%%\n"
    }
   }
  }
 ],
 "metadata": {
  "kernelspec": {
   "display_name": "Python 3",
   "language": "python",
   "name": "python3"
  },
  "language_info": {
   "codemirror_mode": {
    "name": "ipython",
    "version": 2
   },
   "file_extension": ".py",
   "mimetype": "text/x-python",
   "name": "python",
   "nbconvert_exporter": "python",
   "pygments_lexer": "ipython2",
   "version": "2.7.6"
  }
 },
 "nbformat": 4,
 "nbformat_minor": 0
}